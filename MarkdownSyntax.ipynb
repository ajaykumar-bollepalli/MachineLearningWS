{
 "cells": [
  {
   "cell_type": "markdown",
   "metadata": {},
   "source": [
    "# Machine Learning\n",
    "\n",
    "## Day-1\n",
    "\n",
    "### Markdown Syntax"
   ]
  },
  {
   "cell_type": "markdown",
   "metadata": {},
   "source": [
    "Unordered List\n",
    "- *italic*\n",
    "    - sublist\n",
    "    - line2\n",
    "- ** bold **\n",
    "- ***bold and italic***"
   ]
  },
  {
   "cell_type": "markdown",
   "metadata": {},
   "source": [
    "Ordered List\n",
    "1. *italic*\n",
    "    1. sublist\n",
    "    2. line2\n",
    "2. **bold**\n",
    "3. ***bold and italic***"
   ]
  },
  {
   "cell_type": "markdown",
   "metadata": {},
   "source": [
    "![img](mlpic.jpg) \n",
    "\n",
    "```\n",
    "![img](mlpic.jpg) \n",
    "```"
   ]
  },
  {
   "cell_type": "markdown",
   "metadata": {},
   "source": [
    "[Documentation](https://jupyter-notebook.readthedocs.io/en/stable/)\n",
    "```\n",
    "[Documentation](https://jupyter-notebook.readthedocs.io/en/stable/)\n",
    "```"
   ]
  },
  {
   "cell_type": "markdown",
   "metadata": {},
   "source": [
    "> Hello World Quote\n",
    "\n",
    "\n",
    "```\n",
    "> Hello World Quote\n",
    "```"
   ]
  },
  {
   "cell_type": "markdown",
   "metadata": {},
   "source": [
    "$ e^{-1}+ x^2 $\n",
    "\n",
    "\n",
    "$ sum_{i=0}^n x-y $\n",
    "\n",
    "\n",
    "```\n",
    "$ e^pi + x^2 $\n",
    "```"
   ]
  }
 ],
 "metadata": {
  "kernelspec": {
   "display_name": "Python 3",
   "language": "python",
   "name": "python3"
  },
  "language_info": {
   "codemirror_mode": {
    "name": "ipython",
    "version": 3
   },
   "file_extension": ".py",
   "mimetype": "text/x-python",
   "name": "python",
   "nbconvert_exporter": "python",
   "pygments_lexer": "ipython3",
   "version": "3.6.2"
  }
 },
 "nbformat": 4,
 "nbformat_minor": 2
}
